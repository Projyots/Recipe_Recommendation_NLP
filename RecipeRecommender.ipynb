{
 "cells": [
  {
   "cell_type": "markdown",
   "id": "ab34dcf8",
   "metadata": {},
   "source": [
    "##                                    Recipe Recommender"
   ]
  },
  {
   "cell_type": "markdown",
   "id": "740e8745",
   "metadata": {},
   "source": [
    "SUMMARY"
   ]
  },
  {
   "cell_type": "markdown",
   "id": "76d8f7e0",
   "metadata": {},
   "source": [
    "    #Back Story#\n",
    "Your friend has a startup idea – they want to start a food social network. To begin with, they want to make an app that recommends recipes based on what is in a person’s grocery cart. You agreed to help your friend design a proof of concept recipe recommender.\n"
   ]
  },
  {
   "cell_type": "markdown",
   "id": "b23354ad",
   "metadata": {},
   "source": [
    "Data Source : - https://www.kaggle.com/shuyangli94/food-com-recipes-and-user-interactions?select=RAW_recipes.csv\n",
    "\n",
    "In the dataset we have all the recipes and ingredients details. The list of ingredients is used as the \"Grocery Cart\" items and the associated \"Name\" as recipe."
   ]
  },
  {
   "cell_type": "markdown",
   "id": "ee3471ac",
   "metadata": {},
   "source": [
    "#### Steps Involved\n",
    "1. Analyzing the dataset confirms that both recipe name and ingredients (items) list are present in the dataset.\n",
    "2. The Topic model (LDA) approach is used to classify ingredients (items) in a grocery cart to a particular recipe.\n",
    "3. The list of items are extracted from the inner list and then tokenized by nltk library for processing.\n",
    "4. Frequencies of items are plotted for understanding frequently ordered items and Vectors are created accordingly.\n",
    "5. Conversion of Sparse Matrix to gensim corpus and word id's are mapped to words.\n",
    "6. Once the data is processed then Similarity score is calculated and LDA model is trained with corpus.\n",
    "7. The 'query' variable contains the list of grocery items and is processed to get similar recipe.\n",
    "8. There is a wide scope to design recommender system and here gensim.lda topic modeling is used.\n"
   ]
  },
  {
   "cell_type": "code",
   "execution_count": null,
   "id": "fff6e0a0",
   "metadata": {},
   "outputs": [],
   "source": []
  },
  {
   "cell_type": "code",
   "execution_count": 1,
   "id": "d63c1447",
   "metadata": {},
   "outputs": [],
   "source": [
    "# Importing Required Libraries\n",
    "\n",
    "import pandas as pd\n",
    "import numpy as np\n",
    "import seaborn as sns\n",
    "import matplotlib.pyplot as plt\n",
    "from nltk.probability import FreqDist\n",
    "import nltk\n",
    "from collections import Counter\n",
    "import gensim\n",
    "import random\n",
    "from sklearn.feature_extraction.text import CountVectorizer\n",
    "from gensim.matutils import Sparse2Corpus\n",
    "from gensim.models.ldamodel import LdaModel\n",
    "from gensim import models, similarities\n",
    "from gensim.corpora import Dictionary\n",
    "\n",
    "\n",
    "import warnings\n",
    "warnings.filterwarnings('ignore')\n",
    "\n",
    "seed = 0"
   ]
  },
  {
   "cell_type": "code",
   "execution_count": 2,
   "id": "612ca87c",
   "metadata": {},
   "outputs": [],
   "source": [
    "# Reading the CSV file\n",
    "\n",
    "df = pd.read_csv(r'recipes.csv')"
   ]
  },
  {
   "cell_type": "code",
   "execution_count": 9,
   "id": "ac3efaf8",
   "metadata": {},
   "outputs": [
    {
     "data": {
      "text/html": [
       "<div>\n",
       "<style scoped>\n",
       "    .dataframe tbody tr th:only-of-type {\n",
       "        vertical-align: middle;\n",
       "    }\n",
       "\n",
       "    .dataframe tbody tr th {\n",
       "        vertical-align: top;\n",
       "    }\n",
       "\n",
       "    .dataframe thead th {\n",
       "        text-align: right;\n",
       "    }\n",
       "</style>\n",
       "<table border=\"1\" class=\"dataframe\">\n",
       "  <thead>\n",
       "    <tr style=\"text-align: right;\">\n",
       "      <th></th>\n",
       "      <th>name</th>\n",
       "      <th>id</th>\n",
       "      <th>minutes</th>\n",
       "      <th>contributor_id</th>\n",
       "      <th>submitted</th>\n",
       "      <th>tags</th>\n",
       "      <th>nutrition</th>\n",
       "      <th>n_steps</th>\n",
       "      <th>steps</th>\n",
       "      <th>description</th>\n",
       "      <th>ingredients</th>\n",
       "      <th>n_ingredients</th>\n",
       "    </tr>\n",
       "  </thead>\n",
       "  <tbody>\n",
       "    <tr>\n",
       "      <th>0</th>\n",
       "      <td>arriba   baked winter squash mexican style</td>\n",
       "      <td>137739</td>\n",
       "      <td>55</td>\n",
       "      <td>47892</td>\n",
       "      <td>2005-09-16</td>\n",
       "      <td>['60-minutes-or-less', 'time-to-make', 'course...</td>\n",
       "      <td>[51.5, 0.0, 13.0, 0.0, 2.0, 0.0, 4.0]</td>\n",
       "      <td>11</td>\n",
       "      <td>['make a choice and proceed with recipe', 'dep...</td>\n",
       "      <td>autumn is my favorite time of year to cook! th...</td>\n",
       "      <td>['winter squash', 'mexican seasoning', 'mixed ...</td>\n",
       "      <td>7</td>\n",
       "    </tr>\n",
       "    <tr>\n",
       "      <th>1</th>\n",
       "      <td>a bit different  breakfast pizza</td>\n",
       "      <td>31490</td>\n",
       "      <td>30</td>\n",
       "      <td>26278</td>\n",
       "      <td>2002-06-17</td>\n",
       "      <td>['30-minutes-or-less', 'time-to-make', 'course...</td>\n",
       "      <td>[173.4, 18.0, 0.0, 17.0, 22.0, 35.0, 1.0]</td>\n",
       "      <td>9</td>\n",
       "      <td>['preheat oven to 425 degrees f', 'press dough...</td>\n",
       "      <td>this recipe calls for the crust to be prebaked...</td>\n",
       "      <td>['prepared pizza crust', 'sausage patty', 'egg...</td>\n",
       "      <td>6</td>\n",
       "    </tr>\n",
       "    <tr>\n",
       "      <th>2</th>\n",
       "      <td>all in the kitchen  chili</td>\n",
       "      <td>112140</td>\n",
       "      <td>130</td>\n",
       "      <td>196586</td>\n",
       "      <td>2005-02-25</td>\n",
       "      <td>['time-to-make', 'course', 'preparation', 'mai...</td>\n",
       "      <td>[269.8, 22.0, 32.0, 48.0, 39.0, 27.0, 5.0]</td>\n",
       "      <td>6</td>\n",
       "      <td>['brown ground beef in large pot', 'add choppe...</td>\n",
       "      <td>this modified version of 'mom's' chili was a h...</td>\n",
       "      <td>['ground beef', 'yellow onions', 'diced tomato...</td>\n",
       "      <td>13</td>\n",
       "    </tr>\n",
       "  </tbody>\n",
       "</table>\n",
       "</div>"
      ],
      "text/plain": [
       "                                         name      id  minutes  \\\n",
       "0  arriba   baked winter squash mexican style  137739       55   \n",
       "1            a bit different  breakfast pizza   31490       30   \n",
       "2                   all in the kitchen  chili  112140      130   \n",
       "\n",
       "   contributor_id   submitted  \\\n",
       "0           47892  2005-09-16   \n",
       "1           26278  2002-06-17   \n",
       "2          196586  2005-02-25   \n",
       "\n",
       "                                                tags  \\\n",
       "0  ['60-minutes-or-less', 'time-to-make', 'course...   \n",
       "1  ['30-minutes-or-less', 'time-to-make', 'course...   \n",
       "2  ['time-to-make', 'course', 'preparation', 'mai...   \n",
       "\n",
       "                                    nutrition  n_steps  \\\n",
       "0       [51.5, 0.0, 13.0, 0.0, 2.0, 0.0, 4.0]       11   \n",
       "1   [173.4, 18.0, 0.0, 17.0, 22.0, 35.0, 1.0]        9   \n",
       "2  [269.8, 22.0, 32.0, 48.0, 39.0, 27.0, 5.0]        6   \n",
       "\n",
       "                                               steps  \\\n",
       "0  ['make a choice and proceed with recipe', 'dep...   \n",
       "1  ['preheat oven to 425 degrees f', 'press dough...   \n",
       "2  ['brown ground beef in large pot', 'add choppe...   \n",
       "\n",
       "                                         description  \\\n",
       "0  autumn is my favorite time of year to cook! th...   \n",
       "1  this recipe calls for the crust to be prebaked...   \n",
       "2  this modified version of 'mom's' chili was a h...   \n",
       "\n",
       "                                         ingredients  n_ingredients  \n",
       "0  ['winter squash', 'mexican seasoning', 'mixed ...              7  \n",
       "1  ['prepared pizza crust', 'sausage patty', 'egg...              6  \n",
       "2  ['ground beef', 'yellow onions', 'diced tomato...             13  "
      ]
     },
     "execution_count": 9,
     "metadata": {},
     "output_type": "execute_result"
    }
   ],
   "source": [
    "# All the required columns are present in the dataset\n",
    "\n",
    "df.head(3)"
   ]
  },
  {
   "cell_type": "code",
   "execution_count": 7,
   "id": "214bdd00",
   "metadata": {},
   "outputs": [
    {
     "data": {
      "text/plain": [
       "name                 1\n",
       "id                   0\n",
       "minutes              0\n",
       "contributor_id       0\n",
       "submitted            0\n",
       "tags                 0\n",
       "nutrition            0\n",
       "n_steps              0\n",
       "steps                0\n",
       "description       4979\n",
       "ingredients          0\n",
       "n_ingredients        0\n",
       "dtype: int64"
      ]
     },
     "execution_count": 7,
     "metadata": {},
     "output_type": "execute_result"
    }
   ],
   "source": [
    "# Checking the Null Values\n",
    "\n",
    "df.isnull().sum()"
   ]
  },
  {
   "cell_type": "code",
   "execution_count": 10,
   "id": "83702d39",
   "metadata": {},
   "outputs": [],
   "source": [
    "# A function to extract items from the inner list in Ingredients column\n",
    "\n",
    "def treat_ingredients(input):\n",
    "    \n",
    "    output = []\n",
    "    for ingredient in eval(input):\n",
    "        ingredient_list = ingredient.split(' ')\n",
    "        output.append(\"_\".join(ingredient_list))\n",
    "    return \" \".join(output)"
   ]
  },
  {
   "cell_type": "code",
   "execution_count": 11,
   "id": "544e297a",
   "metadata": {},
   "outputs": [],
   "source": [
    "# Convert items to the required format \n",
    "\n",
    "ingredients_all = df.ingredients.apply(lambda x: treat_ingredients(x))"
   ]
  },
  {
   "cell_type": "code",
   "execution_count": 13,
   "id": "9a9d5482",
   "metadata": {},
   "outputs": [],
   "source": [
    "# Corpus to tokenize the items\n",
    "\n",
    "ingredients_corpus = \" \".join(list(ingredients_all))"
   ]
  },
  {
   "cell_type": "code",
   "execution_count": 16,
   "id": "af55d232",
   "metadata": {},
   "outputs": [
    {
     "data": {
      "text/plain": [
       "'winter_squash mexican_seasoning mixed_spice honey '"
      ]
     },
     "execution_count": 16,
     "metadata": {},
     "output_type": "execute_result"
    }
   ],
   "source": [
    "# Sample Corpus\n",
    "\n",
    "ingredients_corpus[:50]"
   ]
  },
  {
   "cell_type": "code",
   "execution_count": 17,
   "id": "39dfd7e0",
   "metadata": {},
   "outputs": [],
   "source": [
    "# Tokenization using nltk library\n",
    "\n",
    "ingredients_corpus = nltk.Text(nltk.word_tokenize(ingredients_corpus))"
   ]
  },
  {
   "cell_type": "code",
   "execution_count": 20,
   "id": "3847d8f5",
   "metadata": {},
   "outputs": [
    {
     "data": {
      "text/plain": [
       "['winter_squash', 'mexican_seasoning', 'mixed_spice', 'honey', 'butter']"
      ]
     },
     "execution_count": 20,
     "metadata": {},
     "output_type": "execute_result"
    }
   ],
   "source": [
    "# Sample corpus after tokenization\n",
    "\n",
    "ingredients_corpus[:5]"
   ]
  },
  {
   "cell_type": "code",
   "execution_count": 21,
   "id": "0c790214",
   "metadata": {},
   "outputs": [],
   "source": [
    "# Frequency is calculated for each word(item)\n",
    "\n",
    "ingre_dist = FreqDist(ingredients_corpus)"
   ]
  },
  {
   "cell_type": "code",
   "execution_count": 23,
   "id": "7f3a024e",
   "metadata": {},
   "outputs": [
    {
     "data": {
      "text/plain": [
       "FreqDist({'salt': 42, 'onion': 24, 'butter': 21, 'eggs': 21, 'water': 17, 'sugar': 17, 'milk': 14, 'garlic': 14, 'brown_sugar': 12, 'flour': 12, ...})"
      ]
     },
     "execution_count": 23,
     "metadata": {},
     "output_type": "execute_result"
    }
   ],
   "source": [
    "# Sample FreqDist\n",
    "\n",
    "ingre_dist"
   ]
  },
  {
   "cell_type": "code",
   "execution_count": 24,
   "id": "cdc55a83",
   "metadata": {},
   "outputs": [],
   "source": [
    "# Extracting the dictionary keys into list\n",
    "\n",
    "ing_key =  list(ingre_dist.keys())"
   ]
  },
  {
   "cell_type": "code",
   "execution_count": 25,
   "id": "a9056d23",
   "metadata": {},
   "outputs": [],
   "source": [
    "# Create (ingredient name, frequency) tupples for further process\n",
    "\n",
    "ing_freq = []\n",
    "\n",
    "for key in ing_key:\n",
    "    ing_freq.append((key,ingre_dist[key]))\n",
    "\n"
   ]
  },
  {
   "cell_type": "code",
   "execution_count": 28,
   "id": "bf8d2d05",
   "metadata": {},
   "outputs": [
    {
     "data": {
      "text/plain": [
       "[('winter_squash', 1),\n",
       " ('mexican_seasoning', 1),\n",
       " ('mixed_spice', 1),\n",
       " ('honey', 6),\n",
       " ('butter', 21)]"
      ]
     },
     "execution_count": 28,
     "metadata": {},
     "output_type": "execute_result"
    }
   ],
   "source": [
    "# Sample (ingredient name, frequency) tupples\n",
    "\n",
    "ing_freq[:5]"
   ]
  },
  {
   "cell_type": "code",
   "execution_count": 29,
   "id": "4b787d35",
   "metadata": {},
   "outputs": [],
   "source": [
    "# Sorted and reversed the tupples to check the highest frequency \n",
    "\n",
    "ing_freq_sorted = sorted(ing_freq,key = lambda x: x[1],reverse = True)"
   ]
  },
  {
   "cell_type": "code",
   "execution_count": 36,
   "id": "429eeb70",
   "metadata": {},
   "outputs": [],
   "source": [
    "# Created a new DataFrame with Item's Tag and Frequency \n",
    "\n",
    "df_ing = pd.DataFrame(ing_freq_sorted[:20], columns =['item_names', 'Frequency']) "
   ]
  },
  {
   "cell_type": "code",
   "execution_count": 38,
   "id": "a618a1db",
   "metadata": {},
   "outputs": [
    {
     "data": {
      "image/png": "[encoded data removed]",
      "text/plain": [
       "<Figure size 504x432 with 1 Axes>"
      ]
     },
     "metadata": {
      "needs_background": "light"
     },
     "output_type": "display_data"
    }
   ],
   "source": [
    "# Plotting the most frequenstly item purchased from the grocery Store.\n",
    "\n",
    "f, ax = plt.subplots(figsize=(7, 6))\n",
    "sns.barplot(x=\"Frequency\", y=\"item_names\", data=df_ing,ax = ax)\n",
    "plt.tight_layout()\n",
    "plt.savefig('output/most_freq_ing.png')"
   ]
  },
  {
   "cell_type": "code",
   "execution_count": 19,
   "id": "d0a913d8",
   "metadata": {},
   "outputs": [],
   "source": []
  },
  {
   "cell_type": "code",
   "execution_count": 41,
   "id": "25e429f9",
   "metadata": {},
   "outputs": [
    {
     "data": {
      "text/plain": [
       "95    butter sugar eggs bananas water baking_soda sa...\n",
       "96    oreo_cookie_crumbs butter cream_cheese sweeten...\n",
       "97    banana natural-style_peanut_butter 2%_low-fat_...\n",
       "98    cream_cheese sour_cream taco_seasoning bean_di...\n",
       "99    mccormick's_montreal_brand_steak_seasoning dil...\n",
       "Name: ingredients, dtype: object"
      ]
     },
     "execution_count": 41,
     "metadata": {},
     "output_type": "execute_result"
    }
   ],
   "source": [
    "# Using the preprocessed list of items\n",
    "\n",
    "ingredients_all[-5:]"
   ]
  },
  {
   "cell_type": "code",
   "execution_count": 63,
   "id": "4343a236",
   "metadata": {},
   "outputs": [],
   "source": [
    "# Get the similarity Index \n",
    "\n",
    "def get_similarity(lda, query_vector):\n",
    "    index = similarities.MatrixSimilarity(lda[corpus])\n",
    "    sims = index[query_vector]\n",
    "    return sims\n"
   ]
  },
  {
   "cell_type": "code",
   "execution_count": 52,
   "id": "17a387b7",
   "metadata": {},
   "outputs": [],
   "source": [
    "# It changes to array of unicode tokens\n",
    "\n",
    "def treat_ingredients(ing_list):\n",
    "    output = []\n",
    "    for ingredient in ing_list:\n",
    "        ingredient_list = ingredient.split(' ')\n",
    "        output.append(\"_\".join(ingredient_list))\n",
    "    return output"
   ]
  },
  {
   "cell_type": "code",
   "execution_count": 73,
   "id": "d3f809a8",
   "metadata": {},
   "outputs": [],
   "source": [
    "# This function includes all the preprocessing steps and Training on LDA model\n",
    "\n",
    "def train_lda_model(ingredients,num_topics,passes = 15,random_state = seed):\n",
    "    \n",
    "    # Get the list of transformed ingredients    \n",
    "    ingredients_all = ingredients.apply(lambda x: treat_ingredients(x))\n",
    "    \n",
    "    # Dictionary (for Gensim vectorizer)    \n",
    "    dictionary = Dictionary([ing for ing in list(ingredients_all)])\n",
    "    \n",
    "    # build corpus: BOW(Bag Of Words)    \n",
    "    corpus = [dictionary.doc2bow(text) for text in list(ingredients_all)]\n",
    "    \n",
    "    # Training of lda model\n",
    "    ldamodel = LdaModel(corpus,num_topics = num_topics, passes = passes,random_state = random_state, id2word = dictionary)\n",
    "    \n",
    "    return ldamodel,dictionary,corpus"
   ]
  },
  {
   "cell_type": "code",
   "execution_count": 57,
   "id": "8507af42",
   "metadata": {},
   "outputs": [],
   "source": [
    "# treat input function, returning a list of tokenized ingredients\n",
    "\n",
    "def treat_words (words):\n",
    "    list_words = words.split(\",\")\n",
    "    output = []\n",
    "    for w in list_words:\n",
    "        output.append(\"_\".join(w.strip().split(\" \")))\n",
    "    return output"
   ]
  },
  {
   "cell_type": "code",
   "execution_count": 43,
   "id": "12c832cc",
   "metadata": {},
   "outputs": [],
   "source": [
    "# The list of Grocery items(query) and ldaModel along dictionary are passed to return similarity score\n",
    "\n",
    "def calculate_similarity(query,ldamodel,dct):\n",
    "    \n",
    "    # Process input words\n",
    "    # doc2bow :- converts the word to its integer word id and returns Sparse Matrix\n",
    "    words_bow = dct.doc2bow(treat_words(query))\n",
    "    query_vector = ldamodel[words_bow]\n",
    "    \n",
    "    # Calculate ranking\n",
    "    sim_rank = get_similarity(lda = ldamodel, query_vector = query_vector)\n",
    "    sim_rank = sorted(enumerate(sim_rank), key=lambda item: -item[1])\n",
    "    \n",
    "    return sim_rank"
   ]
  },
  {
   "cell_type": "code",
   "execution_count": 44,
   "id": "36a867c0",
   "metadata": {},
   "outputs": [],
   "source": [
    "# This function uses similarity rank to return the recommendations\n",
    "\n",
    "def calculate_recommendation(sim_rank,groups,n_reco = 10):\n",
    "    results = [sim_rank[0][0]]\n",
    "    results_prob = [sim_rank[0][1]]\n",
    "    result_group = [sim_rank[0][1]]\n",
    "        \n",
    "    for recipe,group in zip(sim_rank[1:],groups[1:]):\n",
    "        if group not in set(result_group):\n",
    "            results.append(recipe[0])\n",
    "            result_group.append(group)\n",
    "            results_prob.append(recipe[1])\n",
    "        if len(results) == n_reco:\n",
    "            break\n",
    "    print(result_group,\"\\n\",results_prob)\n",
    "    return results"
   ]
  },
  {
   "cell_type": "code",
   "execution_count": 59,
   "id": "528f1797",
   "metadata": {},
   "outputs": [],
   "source": [
    "# This is a wrapper function for calculate simu and calculate reco\n",
    "\n",
    "def get_similarity_reco (query,ldamodel,dct,corpus,n_reco = 10):\n",
    "    \n",
    "    # Calculate rank\n",
    "    sim_rank = calculate_similarity(query,ldamodel,dct)\n",
    "    \n",
    "    # Find groups according to lda model\n",
    "    groups = []\n",
    "    for l in ldamodel[corpus]:\n",
    "        try:\n",
    "            groups.append(l[0][0])\n",
    "        except:\n",
    "            groups.append(random.randint(1, 100))\n",
    "            \n",
    "    return calculate_recommendation(sim_rank,groups,n_reco)"
   ]
  },
  {
   "cell_type": "code",
   "execution_count": 75,
   "id": "be7170ab",
   "metadata": {},
   "outputs": [],
   "source": [
    "# It takes the indexes input and returns the recommended rows as result.\n",
    "\n",
    "def print_reco(results):\n",
    "    results = sorted(results)\n",
    "    return df.iloc[results]"
   ]
  },
  {
   "cell_type": "code",
   "execution_count": 47,
   "id": "82247560",
   "metadata": {},
   "outputs": [],
   "source": [
    "# This fucntion formats the Name\n",
    "\n",
    "def pretty_name (name):\n",
    "    return \" \".join([ word.capitalize() for word in name.split(\" \") if word != \"\"])"
   ]
  },
  {
   "cell_type": "markdown",
   "id": "d9866637",
   "metadata": {},
   "source": []
  },
  {
   "cell_type": "code",
   "execution_count": 74,
   "id": "9e5b7ac7",
   "metadata": {},
   "outputs": [],
   "source": [
    "# Number of Topics is passed as 100. The algo will try to recommend options from different groups.\n",
    "# So that users have different recommendation.\n",
    "\n",
    "ldamodel,dictionary,corpus = train_lda_model(df['ingredients'],100)"
   ]
  },
  {
   "cell_type": "code",
   "execution_count": null,
   "id": "65c16452",
   "metadata": {},
   "outputs": [],
   "source": []
  },
  {
   "cell_type": "markdown",
   "id": "f3328380",
   "metadata": {},
   "source": [
    "### Pass the list of items in the 'Items' variable for Recommendation"
   ]
  },
  {
   "cell_type": "markdown",
   "id": "0cb9ce37",
   "metadata": {},
   "source": [
    "Select any of the below list of items to check recommendation. Comment all other items list. Users can also enter their choice of Items ."
   ]
  },
  {
   "cell_type": "code",
   "execution_count": 83,
   "id": "d6cee1c3",
   "metadata": {},
   "outputs": [],
   "source": [
    "# List of Items to be Passed for Recommendation\n",
    "\n",
    "\n",
    "Items = 'Butter Madeira Cake, Cheese Rolls, Chicken Breasts Saltimbocca, Swiss Crab Melt'\n",
    "\n",
    "# Items = 'ripe_olives,perpercorn, pepper, salt'\n",
    "# Items = 'oil, bread, egg, mustard'"
   ]
  },
  {
   "cell_type": "code",
   "execution_count": 76,
   "id": "060fadaa",
   "metadata": {},
   "outputs": [
    {
     "name": "stdout",
     "output_type": "stream",
     "text": [
      "[0.0, 11, 40, 75, 79, 37, 42, 6, 22, 58] \n",
      " [0.0, 0.0, 0.0, 0.0, 0.0, 0.0, 0.0, 0.0, 0.0, 0.0]\n"
     ]
    }
   ],
   "source": [
    "# It stores the indexes of rows which has high Similarity score\n",
    "\n",
    "results = get_similarity_reco (Items, ldamodel, dct = dictionary, corpus = corpus,n_reco = 10)"
   ]
  },
  {
   "cell_type": "code",
   "execution_count": 79,
   "id": "f73fe9a0",
   "metadata": {},
   "outputs": [],
   "source": [
    "# This returns the dataframe with all the recommended columns\n",
    "\n",
    "recom_recipes = print_reco(results)"
   ]
  },
  {
   "cell_type": "markdown",
   "id": "ea48b5a3",
   "metadata": {},
   "source": [
    "#### List of Top 10 recipes recommended "
   ]
  },
  {
   "cell_type": "code",
   "execution_count": 80,
   "id": "716ed910",
   "metadata": {},
   "outputs": [
    {
     "data": {
      "text/plain": [
       "0     arriba   baked winter squash mexican style\n",
       "1               a bit different  breakfast pizza\n",
       "2                      all in the kitchen  chili\n",
       "3                             alouette  potatoes\n",
       "4             amish  tomato ketchup  for canning\n",
       "5                        apple a day  milk shake\n",
       "6                          aww  marinated olives\n",
       "7                 backyard style  barbecued ribs\n",
       "9                        beat this  banana bread\n",
       "10                   berry  good sandwich spread\n",
       "Name: name, dtype: object"
      ]
     },
     "execution_count": 80,
     "metadata": {},
     "output_type": "execute_result"
    }
   ],
   "source": [
    "recom_recipes['name']"
   ]
  },
  {
   "cell_type": "code",
   "execution_count": 82,
   "id": "017dba6d",
   "metadata": {},
   "outputs": [
    {
     "data": {
      "text/html": [
       "<style  type=\"text/css\" >\n",
       "#T_26b44_row0_col1,#T_26b44_row1_col1,#T_26b44_row2_col1,#T_26b44_row3_col1,#T_26b44_row4_col1,#T_26b44_row5_col1,#T_26b44_row6_col1,#T_26b44_row7_col1,#T_26b44_row8_col1,#T_26b44_row9_col1{\n",
       "            width:  500px;\n",
       "        }</style><table id=\"T_26b44_\" ><thead>    <tr>        <th class=\"blank level0\" ></th>        <th class=\"col_heading level0 col0\" >name</th>        <th class=\"col_heading level0 col1\" >ingredients</th>    </tr></thead><tbody>\n",
       "                <tr>\n",
       "                        <th id=\"T_26b44_level0_row0\" class=\"row_heading level0 row0\" >0</th>\n",
       "                        <td id=\"T_26b44_row0_col0\" class=\"data row0 col0\" >arriba   baked winter squash mexican style</td>\n",
       "                        <td id=\"T_26b44_row0_col1\" class=\"data row0 col1\" >['winter squash', 'mexican seasoning', 'mixed spice', 'honey', 'butter', 'olive oil', 'salt']</td>\n",
       "            </tr>\n",
       "            <tr>\n",
       "                        <th id=\"T_26b44_level0_row1\" class=\"row_heading level0 row1\" >1</th>\n",
       "                        <td id=\"T_26b44_row1_col0\" class=\"data row1 col0\" >a bit different  breakfast pizza</td>\n",
       "                        <td id=\"T_26b44_row1_col1\" class=\"data row1 col1\" >['prepared pizza crust', 'sausage patty', 'eggs', 'milk', 'salt and pepper', 'cheese']</td>\n",
       "            </tr>\n",
       "            <tr>\n",
       "                        <th id=\"T_26b44_level0_row2\" class=\"row_heading level0 row2\" >2</th>\n",
       "                        <td id=\"T_26b44_row2_col0\" class=\"data row2 col0\" >all in the kitchen  chili</td>\n",
       "                        <td id=\"T_26b44_row2_col1\" class=\"data row2 col1\" >['ground beef', 'yellow onions', 'diced tomatoes', 'tomato paste', 'tomato soup', 'rotel tomatoes', 'kidney beans', 'water', 'chili powder', 'ground cumin', 'salt', 'lettuce', 'cheddar cheese']</td>\n",
       "            </tr>\n",
       "            <tr>\n",
       "                        <th id=\"T_26b44_level0_row3\" class=\"row_heading level0 row3\" >3</th>\n",
       "                        <td id=\"T_26b44_row3_col0\" class=\"data row3 col0\" >alouette  potatoes</td>\n",
       "                        <td id=\"T_26b44_row3_col1\" class=\"data row3 col1\" >['spreadable cheese with garlic and herbs', 'new potatoes', 'shallots', 'parsley', 'tarragon', 'olive oil', 'red wine vinegar', 'salt', 'pepper', 'red bell pepper', 'yellow bell pepper']</td>\n",
       "            </tr>\n",
       "            <tr>\n",
       "                        <th id=\"T_26b44_level0_row4\" class=\"row_heading level0 row4\" >4</th>\n",
       "                        <td id=\"T_26b44_row4_col0\" class=\"data row4 col0\" >amish  tomato ketchup  for canning</td>\n",
       "                        <td id=\"T_26b44_row4_col1\" class=\"data row4 col1\" >['tomato juice', 'apple cider vinegar', 'sugar', 'salt', 'pepper', 'clove oil', 'cinnamon oil', 'dry mustard']</td>\n",
       "            </tr>\n",
       "            <tr>\n",
       "                        <th id=\"T_26b44_level0_row5\" class=\"row_heading level0 row5\" >5</th>\n",
       "                        <td id=\"T_26b44_row5_col0\" class=\"data row5 col0\" >apple a day  milk shake</td>\n",
       "                        <td id=\"T_26b44_row5_col1\" class=\"data row5 col1\" >['milk', 'vanilla ice cream', 'frozen apple juice concentrate', 'apple']</td>\n",
       "            </tr>\n",
       "            <tr>\n",
       "                        <th id=\"T_26b44_level0_row6\" class=\"row_heading level0 row6\" >6</th>\n",
       "                        <td id=\"T_26b44_row6_col0\" class=\"data row6 col0\" >aww  marinated olives</td>\n",
       "                        <td id=\"T_26b44_row6_col1\" class=\"data row6 col1\" >['fennel seeds', 'green olives', 'ripe olives', 'garlic', 'peppercorn', 'orange rind', 'orange juice', 'red chile', 'extra virgin olive oil']</td>\n",
       "            </tr>\n",
       "            <tr>\n",
       "                        <th id=\"T_26b44_level0_row7\" class=\"row_heading level0 row7\" >7</th>\n",
       "                        <td id=\"T_26b44_row7_col0\" class=\"data row7 col0\" >backyard style  barbecued ribs</td>\n",
       "                        <td id=\"T_26b44_row7_col1\" class=\"data row7 col1\" >['pork spareribs', 'soy sauce', 'fresh garlic', 'fresh ginger', 'chili powder', 'fresh coarse ground black pepper', 'salt', 'fresh cilantro leaves', 'tomato sauce', 'brown sugar', 'yellow onion', 'white vinegar', 'honey', 'a.1. original sauce', 'liquid smoke', 'cracked black pepper', 'cumin', 'dry mustard', 'cinnamon sticks', 'orange, juice of', 'mirin', 'water']</td>\n",
       "            </tr>\n",
       "            <tr>\n",
       "                        <th id=\"T_26b44_level0_row8\" class=\"row_heading level0 row8\" >9</th>\n",
       "                        <td id=\"T_26b44_row8_col0\" class=\"data row8 col0\" >beat this  banana bread</td>\n",
       "                        <td id=\"T_26b44_row8_col1\" class=\"data row8 col1\" >['sugar', 'unsalted butter', 'bananas', 'eggs', 'fresh lemon juice', 'orange rind', 'cake flour', 'baking soda', 'salt']</td>\n",
       "            </tr>\n",
       "            <tr>\n",
       "                        <th id=\"T_26b44_level0_row9\" class=\"row_heading level0 row9\" >10</th>\n",
       "                        <td id=\"T_26b44_row9_col0\" class=\"data row9 col0\" >berry  good sandwich spread</td>\n",
       "                        <td id=\"T_26b44_row9_col1\" class=\"data row9 col1\" >['whole berry cranberry sauce', 'sour cream', 'prepared horseradish']</td>\n",
       "            </tr>\n",
       "    </tbody></table>"
      ],
      "text/plain": [
       "<pandas.io.formats.style.Styler at 0x11980a266c8>"
      ]
     },
     "execution_count": 82,
     "metadata": {},
     "output_type": "execute_result"
    }
   ],
   "source": [
    "# List of predicted recipes with the Items\n",
    "\n",
    "recom_recipes[['name','ingredients']].style.set_properties(subset=['ingredients'], **{'width': '500px'})"
   ]
  },
  {
   "cell_type": "code",
   "execution_count": null,
   "id": "b34f0181",
   "metadata": {},
   "outputs": [],
   "source": []
  }
 ],
 "metadata": {
  "kernelspec": {
   "display_name": "Python 3",
   "language": "python",
   "name": "python3"
  },
  "language_info": {
   "codemirror_mode": {
    "name": "ipython",
    "version": 3
   },
   "file_extension": ".py",
   "mimetype": "text/x-python",
   "name": "python",
   "nbconvert_exporter": "python",
   "pygments_lexer": "ipython3",
   "version": "3.7.4"
  }
 },
 "nbformat": 4,
 "nbformat_minor": 5
}
